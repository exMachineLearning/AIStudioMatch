{
 "cells": [
  {
   "cell_type": "markdown",
   "metadata": {
    "collapsed": false
   },
   "source": [
    "# 飞桨常规赛：[遥感影像地块分割](https://aistudio.baidu.com/aistudio/competition/detail/63) - 4月第10名方案\n",
    "\n",
    "## 0 引言\n",
    "\n",
    "最近一段时间学习了飞桨领航团实战速成营课程，对图像分割有了一定的了解了，课程中有一个非常有趣的实践作业——参加飞桨常规赛：遥感影像地块分割。\n",
    "\n",
    "在作业中笔者分别使用：\n",
    "- FCN（Fully Convolutional Networks）网络\n",
    "- U-Net网络\n",
    "- DeepLabV3P网络\n",
    "以上三种网络模型对遥感影像地块分割进行实验，具体内容详见下文。\n",
    "\n",
    "**下面的表格是课程地址和|PaddleSeg代码地址：**\n",
    "|标题|链接|\n",
    "|-|-|\n",
    "|飞桨领航团实战速成营课程|[链接](https://aistudio.baidu.com/aistudio/education/group/info/16606/topicdirectly=1&shared=1)|\n",
    "|图像分割理论综述学习笔记|[链接](https://aistudio.baidu.com/aistudio/projectdetail/1782201)|\n",
    "|PaddleSeg的github地址|[链接](https://github.com/PaddlePaddle/PaddleSeg)|\n",
    "|PaddleSeg的gitee地址|[链接](https://gitee.com/paddlepaddle/PaddleSeg)|"
   ]
  },
  {
   "cell_type": "markdown",
   "metadata": {
    "collapsed": false
   },
   "source": [
    "## 1 比赛介绍\n",
    "\n",
    "### 1.1 赛题介绍\n",
    "本赛题由 2020 CCF BDCI 遥感影像地块分割 初赛赛题改编而来。遥感影像地块分割, 旨在对遥感影像进行像素级内容解析，对遥感影像中感兴趣的类别进行提取和分类，在城乡规划、防汛救灾等领域具有很高的实用价值，在工业界也受到了广泛关注。现有的遥感影像地块分割数据处理方法局限于特定的场景和特定的数据来源，且精度无法满足需求。因此在实际应用中，仍然大量依赖于人工处理，需要消耗大量的人力、物力、财力。本赛题旨在衡量遥感影像地块分割模型在多个类别（如建筑、道路、林地等）上的效果，利用人工智能技术，对多来源、多场景的异构遥感影像数据进行充分挖掘，打造高效、实用的算法，提高遥感影像的分析提取能力。\n",
    "\n",
    "### 1.2 赛题任务\n",
    "本赛题旨在对遥感影像进行像素级内容解析，并对遥感影像中感兴趣的类别进行提取和分类，以衡量遥感影像地块分割模型在多个类别（如建筑、道路、林地等）上的效果。\n",
    "\n",
    "### 1.3 数据说明\n",
    "本赛题提供了多个地区已脱敏的遥感影像数据，各参赛选手可以基于这些数据构建自己的地块分割模型。\n",
    "\n",
    "### 1.4 训练数据集\n",
    "样例图片及其标注如下图所示：\n",
    "\n",
    "![](https://ai-studio-static-online.cdn.bcebos.com/96da8ef3e3d54f14b202d6c6184c71aa8e307447450d4d6492326138089579f8)\n",
    "\n",
    "训练数据集文件名称：train_and_label.zip\n",
    "包含2个子文件，分别为：训练数据集（原始图片）文件、训练数据集（标注图片）文件，详细介绍如下：\n",
    "\n",
    "- 训练数据集（原始图片）文件名称：img_train\n",
    "\t包含66,653张分辨率为2m/pixel，尺寸为256 * 256的JPG图片，每张图片的名称形如T000123.jpg。\n",
    "\n",
    "- 训练数据集（标注图片）文件名称：lab_train\n",
    "\t包含66,653张分辨率为2m/pixel，尺寸为256 * 256的PNG图片，每张图片的名称形如T000123.png。\n",
    "    \n",
    "  **备注：**  全部PNG图片共包括4种分类，像素值分别为0、1、2、3。此外，像素值255为未标注区域，表示对应区域的所属类别并不确定，在评测中也不会考虑这部分区域。\n",
    "\n",
    "### 1.5 测试数据集\n",
    "测试数据集文件名称：img_test.zip，详细介绍如下：\n",
    "包含4,609张分辨率为2m/pixel，尺寸为256 * 256的JPG图片，文件名称形如123.jpg。"
   ]
  },
  {
   "cell_type": "markdown",
   "metadata": {
    "collapsed": false
   },
   "source": [
    "## 2. 准备下载相关库与数据解压"
   ]
  },
  {
   "cell_type": "code",
   "execution_count": null,
   "metadata": {
    "collapsed": false
   },
   "outputs": [
    {
     "name": "stdout",
     "output_type": "stream",
     "text": [
      "Cloning into 'PaddleSeg'...\n",
      "remote: Enumerating objects: 10924, done.\u001b[K\n",
      "remote: Counting objects: 100% (10924/10924), done.\u001b[K\n",
      "remote: Compressing objects: 100% (5412/5412), done.\u001b[K\n",
      "remote: Total 10924 (delta 7389), reused 8171 (delta 5353), pack-reused 0\u001b[K\n",
      "Receiving objects: 100% (10924/10924), 156.94 MiB | 20.03 MiB/s, done.\n",
      "Resolving deltas: 100% (7389/7389), done.\n",
      "Checking connectivity... done.\n"
     ]
    }
   ],
   "source": [
    "#下载PaddleSeg\r\n",
    "!git clone https://gitee.com/paddlepaddle/PaddleSeg.git"
   ]
  },
  {
   "cell_type": "code",
   "execution_count": null,
   "metadata": {
    "collapsed": false
   },
   "outputs": [],
   "source": [
    "#将赛题的数据解压缩到用户目录~/\r\n",
    "!unzip -q data/data77571/train_and_label.zip > /dev/null\r\n",
    "!unzip -q data/data77571/img_test.zip > /dev/null"
   ]
  },
  {
   "cell_type": "code",
   "execution_count": null,
   "metadata": {
    "collapsed": false
   },
   "outputs": [],
   "source": [
    "!rm -r __MACOSX/"
   ]
  },
  {
   "cell_type": "markdown",
   "metadata": {
    "collapsed": false
   },
   "source": [
    "## 3. 数据标签分析"
   ]
  },
  {
   "cell_type": "code",
   "execution_count": null,
   "metadata": {
    "collapsed": false
   },
   "outputs": [
    {
     "data": {
      "text/plain": [
       "{1, 255}"
      ]
     },
     "execution_count": null,
     "metadata": {},
     "output_type": "execute_result"
    }
   ],
   "source": [
    "#测试输出图片\r\n",
    "pic1 = '/home/aistudio/lab_train/T020005.png'\r\n",
    "from PIL import Image\r\n",
    "import numpy as np\r\n",
    "img = Image.open(pic1)\r\n",
    "test  = np.array(img)\r\n",
    "# print(test.shape)\r\n",
    "a = test.flatten()\r\n",
    "set(a.tolist())"
   ]
  },
  {
   "cell_type": "markdown",
   "metadata": {
    "collapsed": false
   },
   "source": [
    "根据上面一张图片的结果可见，图片中像素值只有1代表一种类别和255代表没有标注的区域，和赛题描述的情况一致。"
   ]
  },
  {
   "cell_type": "markdown",
   "metadata": {
    "collapsed": false
   },
   "source": [
    "### 3.1 数据类型分布的分析\n",
    "<font size=\"5pt\" color=\"red\">注意：下面这部分数据分析的代码参考[坑姐](https://aistudio.baidu.com/aistudio/personalcenter/thirdview/90149)的[项目](https://aistudio.baidu.com/aistudio/projectdetail/1752986)，这部分数据分析的代码可以用于任何类似的任务，非常有学习的价值！</font>"
   ]
  },
  {
   "cell_type": "code",
   "execution_count": null,
   "metadata": {
    "collapsed": false
   },
   "outputs": [],
   "source": [
    "import cv2, os\r\n",
    "import numpy as np\r\n",
    "\r\n",
    "#amount of classer\r\n",
    "CLASSES_NUM = 4\r\n",
    "\r\n",
    "#find imagee in folder dir\r\n",
    "def findImages(dir,topdown=True):\r\n",
    "    im_list = []\r\n",
    "    if not os.path.exists(dir):\r\n",
    "        print(\"Path for {} not exist!\".format(dir))\r\n",
    "        raise\r\n",
    "    else:\r\n",
    "        for root, dirs, files in os.walk(dir, topdown):\r\n",
    "            for fl in files:\r\n",
    "                im_list.append(fl)\r\n",
    "    return im_list\r\n",
    "\r\n",
    "# amount of images corresponding to each classes\r\n",
    "images_count = [0]*CLASSES_NUM\r\n",
    "# amount of pixels corresponding to each class\r\n",
    "class_pixels_count = [0]*CLASSES_NUM\r\n",
    "# amount of pixels corresponding to the images of each class\r\n",
    "image_pixels_count = [0]*CLASSES_NUM\r\n",
    "\r\n",
    "image_folder = './lab_train/'\r\n",
    "im_list = findImages(image_folder) "
   ]
  },
  {
   "cell_type": "code",
   "execution_count": null,
   "metadata": {
    "collapsed": false
   },
   "outputs": [
    {
     "name": "stdout",
     "output_type": "stream",
     "text": [
      "[23707, 30151, 23044, 18978]\n",
      "[247142772, 310655521, 152480301, 159504650]\n",
      "[1553661952, 1975975936, 1510211584, 1243742208]\n"
     ]
    }
   ],
   "source": [
    "#######################################################注意！！！！！！！！！！！\r\n",
    "# 这部分代码没事就不要再次运行了，非常消耗时间！！\r\n",
    "for im in im_list:\r\n",
    "    # print(im)\r\n",
    "    cv_img = cv2.imread(os.path.join(image_folder, im), cv2.IMREAD_UNCHANGED)\r\n",
    "    size_img = cv_img.shape\r\n",
    "    colors = set([])\r\n",
    "    for i in range(size_img[0]):\r\n",
    "        for j in range(size_img[1]):\r\n",
    "            p_value = cv_img.item(i,j)\r\n",
    "            if not p_value < CLASSES_NUM: # check\r\n",
    "                pass\r\n",
    "                # print(p_value) #因为有255，所以不打印了\r\n",
    "            else:\r\n",
    "                class_pixels_count[p_value] = class_pixels_count[p_value] + 1\r\n",
    "                colors.add(p_value)\r\n",
    "    im_size = size_img[0]*size_img[1]\r\n",
    "    for n in range(CLASSES_NUM):\r\n",
    "        if n in colors:\r\n",
    "            images_count[n] = images_count[n] + 1\r\n",
    "            image_pixels_count[n] = image_pixels_count[n] + im_size\r\n",
    "\r\n",
    "print(images_count)\r\n",
    "print(class_pixels_count)\r\n",
    "print(image_pixels_count)"
   ]
  },
  {
   "cell_type": "code",
   "execution_count": null,
   "metadata": {
    "collapsed": false
   },
   "outputs": [
    {
     "name": "stdout",
     "output_type": "stream",
     "text": [
      "[0.2841, 0.3572, 0.1753, 0.1834]\n"
     ]
    }
   ],
   "source": [
    "# t = class_pixels_count.copy()\r\n",
    "t = [247142772, 310655521, 152480301, 159504650]\r\n",
    "a = np.array(t).sum()\r\n",
    "for i in range(len(t)):\r\n",
    "    t[i] = round(t[i]/a, 4)\r\n",
    "print(t)"
   ]
  },
  {
   "cell_type": "markdown",
   "metadata": {
    "collapsed": false
   },
   "source": [
    "<font color=\"red\" size=\"5pt\">小结：根据打印结果可知，可以看出类别比较均衡</font>"
   ]
  },
  {
   "cell_type": "markdown",
   "metadata": {
    "collapsed": false
   },
   "source": [
    "### 3.2 数据准备（生成用于训练得到标签文件）"
   ]
  },
  {
   "cell_type": "code",
   "execution_count": null,
   "metadata": {
    "collapsed": false
   },
   "outputs": [
    {
     "name": "stdout",
     "output_type": "stream",
     "text": [
      "/home/aistudio\n"
     ]
    }
   ],
   "source": [
    "#首先进入到用户目录\r\n",
    "%cd ~"
   ]
  },
  {
   "cell_type": "code",
   "execution_count": null,
   "metadata": {
    "collapsed": false
   },
   "outputs": [
    {
     "name": "stdout",
     "output_type": "stream",
     "text": [
      "The suffix of images is: .jpg \n",
      " The suffix of masks is .png!\n",
      "The samples of image and label is [('img_train/T057389.jpg', 'lab_train/T057389.png'), ('img_train/T040500.jpg', 'lab_train/T040500.png'), ('img_train/T039138.jpg', 'lab_train/T039138.png')]\n",
      "The effective number of image data is: 66652\n",
      "The split number of train data is: 63319\n"
     ]
    }
   ],
   "source": [
    "import os\n",
    "from imghdr import what\n",
    "import numpy as np\n",
    "import random\n",
    "\n",
    "def get_all_date(dir_images, dir_masks):\n",
    "    \"\"\"生成训练、测试所需的txt文件\"\"\"\n",
    "    res = []\n",
    "    img_list = os.listdir(dir_images)\n",
    "    mask_list = os.listdir(dir_masks)\n",
    "    assert len(img_list) == len(mask_list)  #样本和标签数量肯定要一样\n",
    "    img_suffix = os.path.splitext(os.path.join(dir_images,img_list[0]))[1]\n",
    "    mask_suffix = os.path.splitext(os.path.join(dir_masks,mask_list[0]))[1]\n",
    "    print(f'The suffix of images is: {img_suffix} \\n The suffix of masks is {mask_suffix}!')\n",
    "    for i in range(len(img_list)):\n",
    "        img_name = img_list[i]\n",
    "        mask_name = os.path.splitext(img_name)[0]+mask_suffix\n",
    "        image_path = os.path.join(dir_images,img_name)\n",
    "        mask_path = os.path.join(dir_masks,mask_name)\n",
    "        if os.path.splitext(img_name)[0] == os.path.splitext(mask_name)[0] and what(image_path) and what(mask_path): \n",
    "            #样本和标签文件名一样（不包含后缀，因为后缀可能不一样），同时都为图片\n",
    "            res.append((image_path, mask_path))\n",
    "        else:\n",
    "            print(image_path, mask_path)\n",
    "    return res\n",
    "\n",
    "res = get_all_date('img_train', 'lab_train')\n",
    "print(f'The samples of image and label is {res[:3]}')\n",
    "print(f'The effective number of image data is: {len(res)}')\n",
    "random.shuffle(res)\n",
    "random.shuffle(res)\n",
    "pro = 0.95 #训练/验证比例\n",
    "pro_int = int(len(res)*pro)\n",
    "print(f'The split number of train data is: {pro_int}')\n",
    "with open('./train_list.txt', 'w') as f:\n",
    "    for line in res[:pro_int]:\n",
    "        f.writelines(line[0] + ' ' + line[1] + '\\n')\n",
    "\n",
    "with open('./val_list.txt', 'w') as f:\n",
    "    for line in res[pro_int:]:\n",
    "        f.writelines(line[0] + ' ' + line[1] + '\\n')"
   ]
  },
  {
   "cell_type": "markdown",
   "metadata": {
    "collapsed": false
   },
   "source": [
    "## 4. 修改配置文件并进行训练\n",
    "\n",
    "根据[图像分割理论综述学习笔记](https://aistudio.baidu.com/aistudio/projectdetail/1782201)中介绍可以看出，杨老师原始的[课程视频](https://www.bilibili.com/video/BV1pp4y1871g)中主要介绍了五种典型的图像分割网络：\n",
    "- FCN（Fully Convolutional Networks）网络\n",
    "- U-Net网络\n",
    "- DeepLabV3P网络\n",
    "- HRNet网络\n",
    "- OCRNet网络\n",
    "各种网络中的具体介绍详见[图像分割理论综述学习笔记](https://aistudio.baidu.com/aistudio/projectdetail/1782201)。本项目使用其中的前三种网络进行实验"
   ]
  },
  {
   "cell_type": "code",
   "execution_count": null,
   "metadata": {
    "collapsed": false
   },
   "outputs": [
    {
     "name": "stdout",
     "output_type": "stream",
     "text": [
      "/home/aistudio/PaddleSeg\n"
     ]
    }
   ],
   "source": [
    "#进入PaddleSeg目录\r\n",
    "%cd ./PaddleSeg/"
   ]
  },
  {
   "cell_type": "markdown",
   "metadata": {
    "collapsed": false
   },
   "source": [
    "### 4.1 实验一：使用“FCN（Fully Convolutional Networks）网络”进行训练\n",
    "<font size=\"4\">根据[自定义数据集文档](https://gitee.com/paddlepaddle/PaddleSeg/blob/release/v2.0/docs/data_prepare.md)自己继承并实现配置文件`/home/aistudio/My_Config/My_fcn.yml`，运行下面的命令进行训练</font>\n",
    "\n",
    "#### （1）进行训练"
   ]
  },
  {
   "cell_type": "code",
   "execution_count": 8,
   "metadata": {
    "collapsed": false
   },
   "outputs": [],
   "source": [
    "#注意：evaluate会在每次保存save_interval的时候进行一次，并且于历史数据对比，如果精度提高则更新best_model\r\n",
    "!python train.py \\\r\n",
    "       --config /home/aistudio/My_Config/My_fcn.yml \\\r\n",
    "       --do_eval \\\r\n",
    "       --use_vdl \\\r\n",
    "       --save_interval 250 \\\r\n",
    "       --save_dir /home/aistudio/output_myfcn"
   ]
  },
  {
   "cell_type": "markdown",
   "metadata": {
    "collapsed": false
   },
   "source": [
    "注意，因为训练结果打印的日志太长了，这里将其删除，最终的输出最佳结果文件在<font color=\"red\">/home/aistudio/output_myfcn/best_model</font>文件夹内\n",
    "\n",
    "#### （2）使用训练得到的最佳模型进行评估"
   ]
  },
  {
   "cell_type": "code",
   "execution_count": 16,
   "metadata": {
    "collapsed": false
   },
   "outputs": [],
   "source": [
    "!python val.py \\\r\n",
    "       --config /home/aistudio/My_Config/My_fcn.yml \\\r\n",
    "       --model_path /home/aistudio/output_myfcn/best_model/model.pdparams\r\n",
    "#输出结果：Images=3333 mIoU=0.4754 Acc=0.6818 Kappa=0.5481"
   ]
  },
  {
   "cell_type": "markdown",
   "metadata": {
    "collapsed": false
   },
   "source": [
    "### 4.2 实验二：使用“U-Net网络”进行训练\n",
    "<font size=\"4\">根据[自定义数据集文档](https://gitee.com/paddlepaddle/PaddleSeg/blob/release/v2.0/docs/data_prepare.md)自己继承并实现配置文件`/home/aistudio/My_Config/My_u2net.yml`，运行下面的命令进行训练</font>\n",
    "\n",
    "#### （1）进行训练"
   ]
  },
  {
   "cell_type": "code",
   "execution_count": null,
   "metadata": {
    "collapsed": false
   },
   "outputs": [],
   "source": [
    "!python train.py \\\r\n",
    "       --config /home/aistudio/My_Config/My_u2net.yml \\\r\n",
    "       --do_eval \\\r\n",
    "       --use_vdl \\\r\n",
    "       --save_interval 250 \\\r\n",
    "       --save_dir /home/aistudio/output_myu2net"
   ]
  },
  {
   "cell_type": "markdown",
   "metadata": {
    "collapsed": false
   },
   "source": [
    "注意，因为训练结果打印的日志太长了，这里将其删除，最终的输出最佳结果文件在<font color=\"red\">/home/aistudio/output_myu2net/best_model</font>文件夹内\r\n",
    "\r\n",
    "#### （2）使用训练得到的最佳模型进行评估"
   ]
  },
  {
   "cell_type": "code",
   "execution_count": null,
   "metadata": {
    "collapsed": false
   },
   "outputs": [],
   "source": [
    "!python val.py \\\r\n",
    "       --config /home/aistudio/My_Config/My_u2net.yml \\\r\n",
    "       --model_path /home/aistudio/output_myu2net/best_model/model.pdparams\r\n",
    "#输出结果：Images=3333 mIoU=0.1860 Acc=0.4547 Kappa=0.1766 "
   ]
  },
  {
   "cell_type": "markdown",
   "metadata": {
    "collapsed": false
   },
   "source": [
    "### 4.3 实验三：使用“DeepLabV3P网络”进行训练\n",
    "<font size=\"4\">根据[自定义数据集文档](https://gitee.com/paddlepaddle/PaddleSeg/blob/release/v2.0/docs/data_prepare.md)自己继承并实现配置文件`/home/aistudio/My_Config/My_deep.yml`，运行下面的命令进行训练</font>\n",
    "\n",
    "#### （1）进行训练"
   ]
  },
  {
   "cell_type": "code",
   "execution_count": null,
   "metadata": {
    "collapsed": false
   },
   "outputs": [],
   "source": [
    "!python train.py \\\r\n",
    "       --config /home/aistudio/My_Config/My_deep.yml \\\r\n",
    "       --do_eval \\\r\n",
    "       --use_vdl \\\r\n",
    "       --save_interval 250 \\\r\n",
    "       --save_dir /home/aistudio/output_mydeep"
   ]
  },
  {
   "cell_type": "code",
   "execution_count": null,
   "metadata": {
    "collapsed": false
   },
   "outputs": [],
   "source": [
    "# 从某一轮继续训练的命令\r\n",
    "# !python train.py \\\r\n",
    "#        --config /home/aistudio/My_Config/My_deep.yml \\\r\n",
    "#        --resume_model output_deeplabv3/iter_XXX \\\r\n",
    "#        --do_eval \\\r\n",
    "#        --use_vdl \\\r\n",
    "#        --save_interval 750 \\\r\n",
    "#        --save_dir /home/aistudio/output_mydeep"
   ]
  },
  {
   "cell_type": "markdown",
   "metadata": {
    "collapsed": false
   },
   "source": [
    "注意，因为训练结果打印的日志太长了，这里将其删除，最终的输出最佳结果文件在<font color=\"red\">/home/aistudio/output_mydeep/best_model</font>文件夹内\n",
    "\n",
    "#### （2）使用训练得到的最佳模型进行评估"
   ]
  },
  {
   "cell_type": "code",
   "execution_count": 21,
   "metadata": {
    "collapsed": false
   },
   "outputs": [],
   "source": [
    "!python val.py \\\r\n",
    "       --config /home/aistudio/My_Config/My_deep.yml \\\r\n",
    "       --model_path /home/aistudio/output_mydeep/best_model/model.pdparams\r\n",
    "#输出结果：Images=3333 mIoU=0.6166 Acc=0.7802 Kappa=0.6952 "
   ]
  },
  {
   "cell_type": "markdown",
   "metadata": {
    "collapsed": false
   },
   "source": [
    "### 4.4 实验结果\n",
    "\n",
    "| 名称 | 方案 | 迭代次数 | mIoU | Acc | 参数路径 |\n",
    "|---|---|---|---|---|---|\n",
    "| 实验一  | 使用“FCN（Fully Convolutional Networks）网络”进行训练 | 2000(第一次没有保存结果，重新训练为了节约时间，提前终止了训练) | 0.4754 | 0.6818|/home/aistudio/output_myfcn/best_model/model.pdparams|\n",
    "| 实验二  | 使用“U-Net网络”进行训练 | 10000 | 0.1860 | 0.4547|/home/aistudio/output_myu2net/best_model/model.pdparams|\n",
    "| 实验三  | 使用“DeepLabV3P网络”进行训练 | 50000 | 0.6166 |0.7802|/home/aistudio/output_mydeep/best_model/model.pdparams|\n",
    "\n",
    "<font size=\"6px\" color=\"red\">注意：上述模型预训练参数保存在项目中，因此需要自己fork并运行该项目，然后进入到环境中得到。</font>\n"
   ]
  },
  {
   "cell_type": "markdown",
   "metadata": {
    "collapsed": false
   },
   "source": [
    "## 5. 预测\n",
    "根据上述实验结果，选择<font color=\"red\">实验三的参数</font>进行预测\n",
    "\n",
    "PS(postscript，补充一下)：PaddleSeg比较贴心，默认训练的时候会保存最佳的结果，希望以后官方的其他库也能实现这个功能"
   ]
  },
  {
   "cell_type": "code",
   "execution_count": 20,
   "metadata": {
    "collapsed": false
   },
   "outputs": [],
   "source": [
    "!python predict.py \\\r\n",
    "       --config /home/aistudio/My_Config/My_deep.yml \\\r\n",
    "       --model_path /home/aistudio/output_mydeep/best_model/model.pdparams \\\r\n",
    "       --image_path ../img_testA/ \\\r\n",
    "       --save_dir ../submit/"
   ]
  },
  {
   "cell_type": "markdown",
   "metadata": {
    "collapsed": false
   },
   "source": [
    "<font size=\"4pt\">最后将`~/submit/`下面的`pseudo_color_prediction`文件夹重命名为`resutl`，该文件夹就是最终的结果文件夹，里面是分割后的预测图片</font>"
   ]
  },
  {
   "cell_type": "markdown",
   "metadata": {
    "collapsed": false
   },
   "source": [
    "## 6. 总结\n",
    "- 1 FCN,U-Net,DeepLabV3P网络相比，DeepLabV3P效果最好，当然很有可能由于DeepLabV3P训练次数最多，有兴趣的同学可以试试训练更多的次数进行实验\n",
    "- 2 后续可以使用其他网络进行实验，并且可以调整模型参数，这样可能会达到更佳预测的精度"
   ]
  },
  {
   "cell_type": "markdown",
   "metadata": {
    "collapsed": false
   },
   "source": [
    "# 个人介绍\r\n",
    "\r\n",
    "<font size=\"6px\" color=\"red\">我在AI Studio上获得黄金等级，点亮6个徽章，来互关呀~</font> <font size=\"6px\" color=\"red\">[https://aistudio.baidu.com/aistudio/personalcenter/thirdview/398864](https://aistudio.baidu.com/aistudio/personalcenter/thirdview/398864)</font>"
   ]
  },
  {
   "cell_type": "markdown",
   "metadata": {
    "collapsed": false
   },
   "source": [
    "请点击[此处](https://ai.baidu.com/docs#/AIStudio_Project_Notebook/a38e5576)查看本环境基本用法.  <br>\n",
    "Please click [here ](https://ai.baidu.com/docs#/AIStudio_Project_Notebook/a38e5576) for more detailed instructions. "
   ]
  }
 ],
 "metadata": {
  "kernelspec": {
   "display_name": "PaddlePaddle 2.0.0b0 (Python 3.5)",
   "language": "python",
   "name": "py35-paddle1.2.0"
  },
  "language_info": {
   "codemirror_mode": {
    "name": "ipython",
    "version": 3
   },
   "file_extension": ".py",
   "mimetype": "text/x-python",
   "name": "python",
   "nbconvert_exporter": "python",
   "pygments_lexer": "ipython3",
   "version": "3.7.4"
  }
 },
 "nbformat": 4,
 "nbformat_minor": 1
}
